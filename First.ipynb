{
  "nbformat": 4,
  "nbformat_minor": 0,
  "metadata": {
    "colab": {
      "name": "First.ipynb",
      "provenance": []
    },
    "kernelspec": {
      "name": "python3",
      "display_name": "Python 3"
    }
  },
  "cells": [
    {
      "cell_type": "code",
      "metadata": {
        "id": "8mC0T33YTBaw",
        "colab_type": "code",
        "outputId": "4af4ab97-5b0c-4886-b9e7-ab2f8db5d111",
        "colab": {
          "base_uri": "https://localhost:8080/",
          "height": 34
        }
      },
      "source": [
        "#calculate \n",
        "1*9\n"
      ],
      "execution_count": 0,
      "outputs": [
        {
          "output_type": "execute_result",
          "data": {
            "text/plain": [
              "9"
            ]
          },
          "metadata": {
            "tags": []
          },
          "execution_count": 1
        }
      ]
    },
    {
      "cell_type": "markdown",
      "metadata": {
        "id": "kUI7ZMjkU4s9",
        "colab_type": "text"
      },
      "source": [
        "**Display something**\n",
        "\n",
        "\n",
        "```\n",
        "First value:1\n",
        "\n",
        "```\n",
        "\n"
      ]
    },
    {
      "cell_type": "markdown",
      "metadata": {
        "id": "1Um7N0HRTVvc",
        "colab_type": "text"
      },
      "source": [
        "# My First Notebook \n",
        "**Let's write something**\n"
      ]
    },
    {
      "cell_type": "code",
      "metadata": {
        "id": "YiR5ChZsV7H7",
        "colab_type": "code",
        "colab": {}
      },
      "source": [
        "'''\n",
        "print a value\n",
        "'''\n",
        "print('Frist' value:)"
      ],
      "execution_count": 0,
      "outputs": []
    },
    {
      "cell_type": "markdown",
      "metadata": {
        "id": "CSlauZpCWwIq",
        "colab_type": "text"
      },
      "source": [
        "**Calling a function `sort`**\n",
        "1.Make a list of\n",
        "'''\n",
        "  Number=[4,3,2,1]\n",
        "  '''\n",
        "  2.      User the Function ''\n"
      ]
    },
    {
      "cell_type": "code",
      "metadata": {
        "id": "v5CX1wm0YASQ",
        "colab_type": "code",
        "outputId": "df984027-e66e-4f0a-a8e3-3f7cb9e90050",
        "colab": {
          "base_uri": "https://localhost:8080/",
          "height": 34
        }
      },
      "source": [
        "Numbers=[4,3,2,1]\n",
        "Numbers.sort()\n",
        "print(Numbers)"
      ],
      "execution_count": 0,
      "outputs": [
        {
          "output_type": "stream",
          "text": [
            "[1, 2, 3, 4]\n"
          ],
          "name": "stdout"
        }
      ]
    }
  ]
}